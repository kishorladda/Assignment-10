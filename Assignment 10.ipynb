{
 "cells": [
  {
   "cell_type": "markdown",
   "id": "920348fa-db8e-4e5f-a7b2-cdb9fd00f8c0",
   "metadata": {},
   "source": [
    "Q 1 ] Q1, Create a vehicle class with an init method having instance variables as name_of_vehicle, max_speed\n",
    "and average_of_vehicle."
   ]
  },
  {
   "cell_type": "code",
   "execution_count": 1,
   "id": "b9a73cc2-95ba-46f8-b7ae-4b28c6432b30",
   "metadata": {},
   "outputs": [],
   "source": [
    "class Vehicle:\n",
    "    def __init__(self, name_of_vehicle, max_speed, average_of_vehicle):\n",
    "        self.name_of_vehicle = name_of_vehicle\n",
    "        self.max_speed = max_speed\n",
    "        self.average_of_vehicle = average_of_vehicle\n"
   ]
  },
  {
   "cell_type": "code",
   "execution_count": 6,
   "id": "bbc34d19-a4ad-4870-bcc7-7dfa0cbee613",
   "metadata": {},
   "outputs": [],
   "source": [
    "car = Vehicle(\"BMW\", 200, 60)\n"
   ]
  },
  {
   "cell_type": "code",
   "execution_count": 7,
   "id": "e2a013fa-bd74-445c-946e-894d900606c1",
   "metadata": {},
   "outputs": [
    {
     "name": "stdout",
     "output_type": "stream",
     "text": [
      "BMW\n"
     ]
    }
   ],
   "source": [
    "print(car.name_of_vehicle) "
   ]
  },
  {
   "cell_type": "code",
   "execution_count": 5,
   "id": "bdcf8fc1-e1a8-4638-9188-6ca24514aa10",
   "metadata": {},
   "outputs": [
    {
     "name": "stdout",
     "output_type": "stream",
     "text": [
      "200\n"
     ]
    }
   ],
   "source": [
    "print(car.max_speed)"
   ]
  },
  {
   "cell_type": "markdown",
   "id": "65382a52-ff38-4ea2-a178-6edd6d680412",
   "metadata": {},
   "source": [
    "Q 2]Create a child class car from the vehicle class created in Que 1, which will inherit the vehicle class.\n",
    "Create a method named seating_capacity which takes capacity as an argument and returns the name of\n",
    "the vehicle and its seating capacity."
   ]
  },
  {
   "cell_type": "code",
   "execution_count": 8,
   "id": "a35f8797-d6c0-4380-bb63-b4fde06cd861",
   "metadata": {},
   "outputs": [],
   "source": [
    "class Car(Vehicle):\n",
    "    def seating_capacity(self, capacity):\n",
    "        return f\"{self.name_of_vehicle} has a seating capacity of {capacity} passengers\"\n"
   ]
  },
  {
   "cell_type": "code",
   "execution_count": 10,
   "id": "99ab4cc0-2530-40a9-a5f7-77145f245967",
   "metadata": {},
   "outputs": [
    {
     "name": "stdout",
     "output_type": "stream",
     "text": [
      "BMW has a seating capacity of 5 passengers\n"
     ]
    }
   ],
   "source": [
    "car1 = Car(\"BMW\", 200, 60)\n",
    "print(car1.seating_capacity(5))\n"
   ]
  },
  {
   "cell_type": "markdown",
   "id": "00425ab3-e853-4072-967d-86abb3b73b31",
   "metadata": {},
   "source": [
    "Q 3 ]What is multiple inheritance? Write a python code to demonstrate multiple inheritance."
   ]
  },
  {
   "cell_type": "markdown",
   "id": "484bce50-f5ea-4ade-b762-e55a8637f00f",
   "metadata": {},
   "source": [
    "Ans - Multiple inheritance is a feature of object-oriented programming where a class can inherit attributes and methods from more than one parent class. In multiple inheritance, a child class can have multiple parent classes, and it can inherit all the attributes and methods from those parent classes."
   ]
  },
  {
   "cell_type": "code",
   "execution_count": 11,
   "id": "ad34ceb2-2602-4f7f-93ef-fc33f62240b9",
   "metadata": {},
   "outputs": [],
   "source": [
    "class A:\n",
    "    def method_a(self):\n",
    "        print(\"Method A\")\n",
    "\n",
    "class B:\n",
    "    def method_b(self):\n",
    "        print(\"Method B\")\n",
    "\n",
    "class C(A, B):\n",
    "    def method_c(self):\n",
    "        print(\"Method C\")"
   ]
  },
  {
   "cell_type": "code",
   "execution_count": 12,
   "id": "c60cc040-6e25-442d-801c-0b50bedfa8d2",
   "metadata": {},
   "outputs": [],
   "source": [
    "obj = C()"
   ]
  },
  {
   "cell_type": "code",
   "execution_count": 13,
   "id": "18943a45-bc60-4384-bd38-a85dc4415cfa",
   "metadata": {},
   "outputs": [
    {
     "name": "stdout",
     "output_type": "stream",
     "text": [
      "Method A\n"
     ]
    }
   ],
   "source": [
    "obj.method_a()"
   ]
  },
  {
   "cell_type": "code",
   "execution_count": 14,
   "id": "b7b3e3da-623a-4374-a6fd-2c27318917e3",
   "metadata": {},
   "outputs": [
    {
     "name": "stdout",
     "output_type": "stream",
     "text": [
      "Method B\n"
     ]
    }
   ],
   "source": [
    "obj.method_b()"
   ]
  },
  {
   "cell_type": "markdown",
   "id": "80bf1b48-208a-4ab1-8066-4fc887b38159",
   "metadata": {},
   "source": [
    "Q 4] What are getter and setter in python? Create a class and create a getter and a setter method in this\n",
    "class."
   ]
  },
  {
   "cell_type": "code",
   "execution_count": 15,
   "id": "f8ca56c2-8b2a-40c9-a581-03ee1479e4e4",
   "metadata": {},
   "outputs": [],
   "source": [
    "class Person:\n",
    "    def __init__(self, name, age):\n",
    "        self.name = name\n",
    "        self.__age = age\n",
    "    \n",
    "    def get_age(self):\n",
    "        return self.__age\n",
    "    \n",
    "    def set_age(self, age):\n",
    "        if age > 0:\n",
    "            self.__age = age\n",
    "        else:\n",
    "            print(\"Age should be a positive number\")\n"
   ]
  },
  {
   "cell_type": "code",
   "execution_count": 20,
   "id": "472cc4a6-7146-4243-8c54-f453757ee453",
   "metadata": {},
   "outputs": [
    {
     "name": "stdout",
     "output_type": "stream",
     "text": [
      "30\n"
     ]
    }
   ],
   "source": [
    "person1 = Person(\"kishor\", 30)\n",
    "print(person1.get_age())"
   ]
  },
  {
   "cell_type": "code",
   "execution_count": 21,
   "id": "53c0f62d-c0e2-4392-8df1-efa6963218be",
   "metadata": {},
   "outputs": [
    {
     "name": "stdout",
     "output_type": "stream",
     "text": [
      "Age should be a positive number\n"
     ]
    }
   ],
   "source": [
    "person1.set_age(-10)"
   ]
  },
  {
   "cell_type": "code",
   "execution_count": 22,
   "id": "7f16095e-af3d-4def-93f0-5636ee11ee0e",
   "metadata": {},
   "outputs": [
    {
     "name": "stdout",
     "output_type": "stream",
     "text": [
      "40\n"
     ]
    }
   ],
   "source": [
    "person1.set_age(40)\n",
    "print(person1.get_age())"
   ]
  },
  {
   "cell_type": "markdown",
   "id": "62102e0f-b4f9-4cd5-960c-6de3a789ac77",
   "metadata": {},
   "source": [
    "Q 5 ] What is method overriding in python? Write a python code to demonstrate method overriding."
   ]
  },
  {
   "cell_type": "markdown",
   "id": "6b73bb77-cfe0-47fe-9007-a43fbd95e401",
   "metadata": {},
   "source": [
    "Ans - In Python, method overriding is a mechanism by which a child class can modify or replace a method inherited from its parent class. When a child class defines a method with the same name and signature as a method in its parent class, the child class method overrides the parent class method."
   ]
  },
  {
   "cell_type": "code",
   "execution_count": 23,
   "id": "50a96873-0537-4006-8e37-776675202703",
   "metadata": {},
   "outputs": [],
   "source": [
    "class Shape:\n",
    "    def area(self):\n",
    "        print(\"Calculating area of shape...\")\n",
    "\n",
    "class Rectangle(Shape):\n",
    "    def __init__(self, length, width):\n",
    "        self.length = length\n",
    "        self.width = width\n",
    "    \n",
    "    def area(self):\n",
    "        return self.length * self.width\n",
    "\n",
    "class Circle(Shape):\n",
    "    def __init__(self, radius):\n",
    "        self.radius = radius\n",
    "    \n",
    "    def area(self):\n",
    "        return 3.14 * self.radius**2\n"
   ]
  },
  {
   "cell_type": "code",
   "execution_count": 26,
   "id": "f3c0abf9-0879-4850-9d4b-78fcc5a210fb",
   "metadata": {},
   "outputs": [
    {
     "name": "stdout",
     "output_type": "stream",
     "text": [
      "84\n"
     ]
    }
   ],
   "source": [
    "rectangle1 = Rectangle(7, 12)\n",
    "print(rectangle1.area())"
   ]
  },
  {
   "cell_type": "code",
   "execution_count": 27,
   "id": "03d5de87-7909-4a67-9936-f4f96cc9cffe",
   "metadata": {},
   "outputs": [
    {
     "name": "stdout",
     "output_type": "stream",
     "text": [
      "254.34\n"
     ]
    }
   ],
   "source": [
    "circle1 = Circle(9)\n",
    "print(circle1.area())"
   ]
  },
  {
   "cell_type": "code",
   "execution_count": null,
   "id": "16f07810-da4a-4ef7-a004-ee03adc76ffe",
   "metadata": {},
   "outputs": [],
   "source": []
  }
 ],
 "metadata": {
  "kernelspec": {
   "display_name": "Python 3 (ipykernel)",
   "language": "python",
   "name": "python3"
  },
  "language_info": {
   "codemirror_mode": {
    "name": "ipython",
    "version": 3
   },
   "file_extension": ".py",
   "mimetype": "text/x-python",
   "name": "python",
   "nbconvert_exporter": "python",
   "pygments_lexer": "ipython3",
   "version": "3.10.8"
  }
 },
 "nbformat": 4,
 "nbformat_minor": 5
}
